{
 "cells": [
  {
   "cell_type": "markdown",
   "id": "53053d13",
   "metadata": {},
   "source": [
    "# Lab 8: RC Circuits\n",
    "\n",
    "## Diego McHenry and Julia Gelfond\n",
    "\n",
    "### April, 2024"
   ]
  },
  {
   "cell_type": "markdown",
   "id": "21c39f28",
   "metadata": {},
   "source": [
    "Grader, hear my plea. I dont know what I'm doing. This lab doesnt seem very posterable to me. I literally spent about an hour thinking about what the main point is and frankly, now that ive 'finished' this poster, I still have no clue. I feel betrayed by this assignment even though I know I am likely the culprit and not the assignment itself. Please know, I am aware this has not been well done, but this is my first time making a poster like this, and I can't figure out where I was going with that sentence.\n",
    "\n",
    "Introduction: on poster\n",
    "\n",
    "Set Up: on poster\n",
    "\n"
   ]
  },
  {
   "cell_type": "code",
   "execution_count": 1,
   "id": "1102165d",
   "metadata": {},
   "outputs": [],
   "source": [
    "#potentially useful modules\n",
    "import pandas as pd\n",
    "\n",
    "import matplotlib.pyplot as plt\n",
    "%matplotlib inline\n",
    "\n",
    "import math\n",
    "\n",
    "import numpy as np\n",
    "\n",
    "import scipy.optimize as opt"
   ]
  },
  {
   "cell_type": "markdown",
   "id": "604dca94",
   "metadata": {},
   "source": [
    "Data collection: on poster"
   ]
  },
  {
   "cell_type": "markdown",
   "id": "fddefc40",
   "metadata": {},
   "source": [
    "Main idea: we can calculate a time constant using a circuit's resistance and capacitance to predict its how quickly it charges and discharges"
   ]
  },
  {
   "cell_type": "markdown",
   "id": "edfdf664",
   "metadata": {},
   "source": [
    "Analysis:"
   ]
  },
  {
   "cell_type": "code",
   "execution_count": 2,
   "id": "d9aff968",
   "metadata": {},
   "outputs": [
    {
     "data": {
      "text/html": [
       "<div>\n",
       "<style scoped>\n",
       "    .dataframe tbody tr th:only-of-type {\n",
       "        vertical-align: middle;\n",
       "    }\n",
       "\n",
       "    .dataframe tbody tr th {\n",
       "        vertical-align: top;\n",
       "    }\n",
       "\n",
       "    .dataframe thead th {\n",
       "        text-align: right;\n",
       "    }\n",
       "</style>\n",
       "<table border=\"1\" class=\"dataframe\">\n",
       "  <thead>\n",
       "    <tr style=\"text-align: right;\">\n",
       "      <th></th>\n",
       "      <th>Hz</th>\n",
       "      <th>Vin</th>\n",
       "      <th>Vout</th>\n",
       "      <th>out/in</th>\n",
       "    </tr>\n",
       "  </thead>\n",
       "  <tbody>\n",
       "    <tr>\n",
       "      <th>0</th>\n",
       "      <td>5</td>\n",
       "      <td>10.0</td>\n",
       "      <td>10.0</td>\n",
       "      <td>1.000000</td>\n",
       "    </tr>\n",
       "    <tr>\n",
       "      <th>1</th>\n",
       "      <td>33</td>\n",
       "      <td>10.0</td>\n",
       "      <td>10.0</td>\n",
       "      <td>1.000000</td>\n",
       "    </tr>\n",
       "    <tr>\n",
       "      <th>2</th>\n",
       "      <td>168</td>\n",
       "      <td>10.0</td>\n",
       "      <td>10.0</td>\n",
       "      <td>1.000000</td>\n",
       "    </tr>\n",
       "    <tr>\n",
       "      <th>3</th>\n",
       "      <td>624</td>\n",
       "      <td>10.0</td>\n",
       "      <td>9.2</td>\n",
       "      <td>0.920000</td>\n",
       "    </tr>\n",
       "    <tr>\n",
       "      <th>4</th>\n",
       "      <td>1560</td>\n",
       "      <td>10.0</td>\n",
       "      <td>7.0</td>\n",
       "      <td>0.700000</td>\n",
       "    </tr>\n",
       "    <tr>\n",
       "      <th>5</th>\n",
       "      <td>4178</td>\n",
       "      <td>10.4</td>\n",
       "      <td>4.0</td>\n",
       "      <td>0.384615</td>\n",
       "    </tr>\n",
       "    <tr>\n",
       "      <th>6</th>\n",
       "      <td>5497</td>\n",
       "      <td>10.4</td>\n",
       "      <td>3.4</td>\n",
       "      <td>0.326923</td>\n",
       "    </tr>\n",
       "    <tr>\n",
       "      <th>7</th>\n",
       "      <td>9820</td>\n",
       "      <td>10.4</td>\n",
       "      <td>2.0</td>\n",
       "      <td>0.192308</td>\n",
       "    </tr>\n",
       "    <tr>\n",
       "      <th>8</th>\n",
       "      <td>27650</td>\n",
       "      <td>10.4</td>\n",
       "      <td>1.2</td>\n",
       "      <td>0.115385</td>\n",
       "    </tr>\n",
       "    <tr>\n",
       "      <th>9</th>\n",
       "      <td>44700</td>\n",
       "      <td>10.2</td>\n",
       "      <td>1.0</td>\n",
       "      <td>0.098039</td>\n",
       "    </tr>\n",
       "    <tr>\n",
       "      <th>10</th>\n",
       "      <td>55430</td>\n",
       "      <td>10.2</td>\n",
       "      <td>0.8</td>\n",
       "      <td>0.078431</td>\n",
       "    </tr>\n",
       "    <tr>\n",
       "      <th>11</th>\n",
       "      <td>284800</td>\n",
       "      <td>10.4</td>\n",
       "      <td>0.8</td>\n",
       "      <td>0.076923</td>\n",
       "    </tr>\n",
       "    <tr>\n",
       "      <th>12</th>\n",
       "      <td>434500</td>\n",
       "      <td>10.2</td>\n",
       "      <td>0.8</td>\n",
       "      <td>0.078431</td>\n",
       "    </tr>\n",
       "    <tr>\n",
       "      <th>13</th>\n",
       "      <td>563900</td>\n",
       "      <td>10.2</td>\n",
       "      <td>0.8</td>\n",
       "      <td>0.078431</td>\n",
       "    </tr>\n",
       "    <tr>\n",
       "      <th>14</th>\n",
       "      <td>2122000</td>\n",
       "      <td>10.8</td>\n",
       "      <td>0.8</td>\n",
       "      <td>0.074074</td>\n",
       "    </tr>\n",
       "    <tr>\n",
       "      <th>15</th>\n",
       "      <td>4074000</td>\n",
       "      <td>11.4</td>\n",
       "      <td>0.8</td>\n",
       "      <td>0.070175</td>\n",
       "    </tr>\n",
       "    <tr>\n",
       "      <th>16</th>\n",
       "      <td>5651000</td>\n",
       "      <td>12.4</td>\n",
       "      <td>0.8</td>\n",
       "      <td>0.064516</td>\n",
       "    </tr>\n",
       "  </tbody>\n",
       "</table>\n",
       "</div>"
      ],
      "text/plain": [
       "         Hz   Vin  Vout    out/in\n",
       "0         5  10.0  10.0  1.000000\n",
       "1        33  10.0  10.0  1.000000\n",
       "2       168  10.0  10.0  1.000000\n",
       "3       624  10.0   9.2  0.920000\n",
       "4      1560  10.0   7.0  0.700000\n",
       "5      4178  10.4   4.0  0.384615\n",
       "6      5497  10.4   3.4  0.326923\n",
       "7      9820  10.4   2.0  0.192308\n",
       "8     27650  10.4   1.2  0.115385\n",
       "9     44700  10.2   1.0  0.098039\n",
       "10    55430  10.2   0.8  0.078431\n",
       "11   284800  10.4   0.8  0.076923\n",
       "12   434500  10.2   0.8  0.078431\n",
       "13   563900  10.2   0.8  0.078431\n",
       "14  2122000  10.8   0.8  0.074074\n",
       "15  4074000  11.4   0.8  0.070175\n",
       "16  5651000  12.4   0.8  0.064516"
      ]
     },
     "execution_count": 2,
     "metadata": {},
     "output_type": "execute_result"
    }
   ],
   "source": [
    "data = pd.read_excel(\"lab8.1.xlsx\")\n",
    "data"
   ]
  },
  {
   "cell_type": "code",
   "execution_count": 3,
   "id": "9a4b5677",
   "metadata": {},
   "outputs": [
    {
     "data": {
      "text/html": [
       "<div>\n",
       "<style scoped>\n",
       "    .dataframe tbody tr th:only-of-type {\n",
       "        vertical-align: middle;\n",
       "    }\n",
       "\n",
       "    .dataframe tbody tr th {\n",
       "        vertical-align: top;\n",
       "    }\n",
       "\n",
       "    .dataframe thead th {\n",
       "        text-align: right;\n",
       "    }\n",
       "</style>\n",
       "<table border=\"1\" class=\"dataframe\">\n",
       "  <thead>\n",
       "    <tr style=\"text-align: right;\">\n",
       "      <th></th>\n",
       "      <th>Unnamed: 0</th>\n",
       "      <th>Farads</th>\n",
       "      <th>Resistance</th>\n",
       "      <th>tau (s)</th>\n",
       "      <th>d tau</th>\n",
       "      <th>experimental tau</th>\n",
       "      <th>exp dtau</th>\n",
       "    </tr>\n",
       "  </thead>\n",
       "  <tbody>\n",
       "    <tr>\n",
       "      <th>0</th>\n",
       "      <td>given values</td>\n",
       "      <td>2.000000e-08</td>\n",
       "      <td>1000</td>\n",
       "      <td>0.000020</td>\n",
       "      <td>0.000000</td>\n",
       "      <td>0.000024</td>\n",
       "      <td>0.000002</td>\n",
       "    </tr>\n",
       "    <tr>\n",
       "      <th>1</th>\n",
       "      <td>tested values</td>\n",
       "      <td>3.160000e-08</td>\n",
       "      <td>1011</td>\n",
       "      <td>0.000032</td>\n",
       "      <td>0.000001</td>\n",
       "      <td>0.000024</td>\n",
       "      <td>0.000002</td>\n",
       "    </tr>\n",
       "  </tbody>\n",
       "</table>\n",
       "</div>"
      ],
      "text/plain": [
       "      Unnamed: 0        Farads  Resistance   tau (s)     d tau  \\\n",
       "0   given values  2.000000e-08        1000  0.000020  0.000000   \n",
       "1  tested values  3.160000e-08        1011  0.000032  0.000001   \n",
       "\n",
       "   experimental tau  exp dtau  \n",
       "0          0.000024  0.000002  \n",
       "1          0.000024  0.000002  "
      ]
     },
     "execution_count": 3,
     "metadata": {},
     "output_type": "execute_result"
    }
   ],
   "source": [
    "data2 = pd.read_excel(\"lab8.2.xlsx\")\n",
    "data2"
   ]
  },
  {
   "cell_type": "code",
   "execution_count": 4,
   "id": "dbe3529a",
   "metadata": {},
   "outputs": [
    {
     "name": "stdout",
     "output_type": "stream",
     "text": [
      "1.9999999999999996\n"
     ]
    }
   ],
   "source": [
    "tlabeled=-(2e-5-2.4e-5)/2e-6\n",
    "print(tlabeled)"
   ]
  },
  {
   "cell_type": "code",
   "execution_count": 5,
   "id": "5450f87c",
   "metadata": {},
   "outputs": [
    {
     "name": "stdout",
     "output_type": "stream",
     "text": [
      "2.365269461077845\n"
     ]
    }
   ],
   "source": [
    "ttested=(3.19e-5-2.4e-5)/(2e-6+1.34e-6)\n",
    "print(ttested)"
   ]
  },
  {
   "cell_type": "code",
   "execution_count": null,
   "id": "36e56749",
   "metadata": {},
   "outputs": [],
   "source": []
  }
 ],
 "metadata": {
  "kernelspec": {
   "display_name": "Python 3 (ipykernel)",
   "language": "python",
   "name": "python3"
  },
  "language_info": {
   "codemirror_mode": {
    "name": "ipython",
    "version": 3
   },
   "file_extension": ".py",
   "mimetype": "text/x-python",
   "name": "python",
   "nbconvert_exporter": "python",
   "pygments_lexer": "ipython3",
   "version": "3.11.5"
  }
 },
 "nbformat": 4,
 "nbformat_minor": 5
}
